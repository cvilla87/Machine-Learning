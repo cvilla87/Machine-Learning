{
 "cells": [
  {
   "cell_type": "markdown",
   "metadata": {},
   "source": [
    "# Tensorflow basics + Linear Regression"
   ]
  },
  {
   "cell_type": "markdown",
   "metadata": {},
   "source": [
    "## Constant and operator nodes"
   ]
  },
  {
   "cell_type": "code",
   "execution_count": 1,
   "metadata": {},
   "outputs": [],
   "source": [
    "import tensorflow as tf\n",
    "\n",
    "const_node_1 = tf.constant(2.0, dtype=tf.float32)\n",
    "const_node_2 = tf.constant(3.0)\n",
    "const_node_3 = tf.constant([3.0, 4.0, 5.0])\n",
    "\n",
    "# Some basic operations with nodes\n",
    "const_node_4 = tf.add(const_node_1, const_node_2)  # Can also be done by suming variables with \"+\"\n",
    "const_node_5 = const_node_2 * 3 \n",
    "const_node_6 = const_node_1 * const_node_4"
   ]
  },
  {
   "cell_type": "code",
   "execution_count": 2,
   "metadata": {},
   "outputs": [
    {
     "name": "stdout",
     "output_type": "stream",
     "text": [
      "Tensor(\"Const:0\", shape=(), dtype=float32)\n",
      "Tensor(\"Const_1:0\", shape=(), dtype=float32)\n",
      "Tensor(\"Const_2:0\", shape=(3,), dtype=float32)\n",
      "Tensor(\"Add:0\", shape=(), dtype=float32)\n",
      "Tensor(\"mul:0\", shape=(), dtype=float32)\n",
      "Tensor(\"mul_1:0\", shape=(), dtype=float32)\n"
     ]
    }
   ],
   "source": [
    "print(const_node_1)\n",
    "print(const_node_2)\n",
    "print(const_node_3)\n",
    "print(const_node_4)\n",
    "print(const_node_5)\n",
    "print(const_node_6)"
   ]
  },
  {
   "cell_type": "markdown",
   "metadata": {},
   "source": [
    "No value shown because no session has been run."
   ]
  },
  {
   "cell_type": "code",
   "execution_count": 3,
   "metadata": {},
   "outputs": [
    {
     "name": "stdout",
     "output_type": "stream",
     "text": [
      "[2.0, 3.0, array([3., 4., 5.], dtype=float32), 5.0, 9.0, 10.0]\n"
     ]
    }
   ],
   "source": [
    "session = tf.Session()\n",
    "print(session.run([const_node_1, const_node_2, const_node_3, const_node_4, const_node_5, const_node_6]))"
   ]
  },
  {
   "cell_type": "markdown",
   "metadata": {},
   "source": [
    "## Placeholder nodes"
   ]
  },
  {
   "cell_type": "markdown",
   "metadata": {},
   "source": [
    "These are nodes that require no value to be set when declaring them."
   ]
  },
  {
   "cell_type": "code",
   "execution_count": 4,
   "metadata": {},
   "outputs": [
    {
     "name": "stdout",
     "output_type": "stream",
     "text": [
      "[10.  6.]\n"
     ]
    }
   ],
   "source": [
    "placeholder_1 = tf.placeholder(dtype=tf.float32)\n",
    "placeholder_2 = tf.placeholder(dtype=tf.float32)\n",
    "placeholder_3 = placeholder_1 * placeholder_2\n",
    "\n",
    "session = tf.Session()\n",
    "print(session.run(placeholder_3, {placeholder_1: [5.0, 3.0], placeholder_2: [2.0]}))"
   ]
  },
  {
   "cell_type": "markdown",
   "metadata": {},
   "source": [
    "## Variable nodes"
   ]
  },
  {
   "cell_type": "code",
   "execution_count": 5,
   "metadata": {},
   "outputs": [
    {
     "name": "stdout",
     "output_type": "stream",
     "text": [
      "[5.]\n"
     ]
    }
   ],
   "source": [
    "var_node_1 = tf.Variable([5.0], dtype=tf.float32)\n",
    "const_node_1 = tf.constant([10.0], dtype=tf.float32)\n",
    "\n",
    "session = tf.Session()\n",
    "init = tf.global_variables_initializer()  # All tf.Variables will be initialized\n",
    "session.run(init)\n",
    "print(session.run(var_node_1))"
   ]
  },
  {
   "cell_type": "code",
   "execution_count": 6,
   "metadata": {},
   "outputs": [
    {
     "name": "stdout",
     "output_type": "stream",
     "text": [
      "[20.]\n"
     ]
    }
   ],
   "source": [
    "session.run(var_node_1.assign([20.0]))  # Assignation must be done inside run session\n",
    "print(session.run(var_node_1))"
   ]
  },
  {
   "cell_type": "markdown",
   "metadata": {},
   "source": [
    "## Linear regression model\n",
    "Linear regression formula: y = Wx + b"
   ]
  },
  {
   "cell_type": "code",
   "execution_count": 7,
   "metadata": {},
   "outputs": [
    {
     "name": "stdout",
     "output_type": "stream",
     "text": [
      "[ 0.  -0.5 -1.  -1.5]\n",
      "3.5\n",
      "New W: [-0.99999887]\n",
      "New b: [0.9999966]\n",
      "New loss: 7.9722895e-12\n",
      "[ -8.999992 -18.99998  -28.99997  -38.999958]\n"
     ]
    }
   ],
   "source": [
    "# x = [1, 2, 3, 4]\n",
    "# y = [0, -1, -2, -3]\n",
    "\n",
    "W = tf.Variable([-.5], dtype=tf.float32)\n",
    "b = tf.Variable([.5], dtype=tf.float32)\n",
    "\n",
    "x = tf.placeholder(dtype=tf.float32)\n",
    "y = tf.placeholder(dtype=tf.float32)\n",
    "\n",
    "linear_model = W * x + b\n",
    "\n",
    "loss = tf.reduce_sum(tf.square(linear_model - y))\n",
    "optimizer = tf.train.GradientDescentOptimizer(0.01)\n",
    "train = optimizer.minimize(loss)\n",
    "\n",
    "x_train = [1, 2, 3, 4]\n",
    "y_train = [0, -1, -2, -3]\n",
    "\n",
    "session = tf.Session()\n",
    "init = tf.global_variables_initializer()\n",
    "session.run(init)\n",
    "print(session.run(linear_model, {x: x_train}))\n",
    "print(session.run(loss, {x: x_train, y: y_train}))\n",
    "\n",
    "for i in range(1000):\n",
    "    session.run(train, {x: x_train, y: y_train})\n",
    "\n",
    "new_W, new_b, new_loss = session.run([W, b, loss], {x: x_train, y: y_train})\n",
    "print(\"New W: %s\" %new_W)\n",
    "print(\"New b: %s\" %new_b)\n",
    "print(\"New loss: %s\" %new_loss)\n",
    "\n",
    "# Test the model against new values\n",
    "print(session.run(linear_model, {x: [10, 20, 30, 40]}))"
   ]
  }
 ],
 "metadata": {
  "kernelspec": {
   "display_name": "Python 3",
   "language": "python",
   "name": "python3"
  },
  "language_info": {
   "codemirror_mode": {
    "name": "ipython",
    "version": 3
   },
   "file_extension": ".py",
   "mimetype": "text/x-python",
   "name": "python",
   "nbconvert_exporter": "python",
   "pygments_lexer": "ipython3",
   "version": "3.6.6"
  }
 },
 "nbformat": 4,
 "nbformat_minor": 2
}
