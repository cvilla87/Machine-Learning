{
 "cells": [
  {
   "cell_type": "markdown",
   "metadata": {},
   "source": [
    "# Python Image Recognition"
   ]
  },
  {
   "cell_type": "markdown",
   "metadata": {},
   "source": [
    "## Showing images with Python Imaging Library (PIL)"
   ]
  },
  {
   "cell_type": "code",
   "execution_count": 1,
   "metadata": {},
   "outputs": [],
   "source": [
    "from PIL import Image\n",
    "\n",
    "cat_image_pathname = r\".\\images\\cat1.png\"\n",
    "cat_image = Image.open(cat_image_pathname)\n",
    "cat_image.show()"
   ]
  },
  {
   "cell_type": "markdown",
   "metadata": {},
   "source": [
    "## Loading CIFAR10 dataset"
   ]
  },
  {
   "cell_type": "code",
   "execution_count": 3,
   "metadata": {},
   "outputs": [],
   "source": [
    "from keras.datasets import cifar10\n",
    "\n",
    "labels = [\"airplane\", \"automobile\", \"bird\", \"cat\", \"deer\", \"dog\", \"frog\", \"horse\", \"ship\", \"truck\"]\n",
    "\n",
    "# Dataset will be downloaded if not detected.\n",
    "(X_train, y_train), (X_test, y_test) = cifar10.load_data()  "
   ]
  },
  {
   "cell_type": "markdown",
   "metadata": {},
   "source": [
    "# Plotting the images from the dataset"
   ]
  },
  {
   "cell_type": "code",
   "execution_count": 5,
   "metadata": {},
   "outputs": [
    {
     "name": "stdout",
     "output_type": "stream",
     "text": [
      "Enter index: 5\n"
     ]
    },
    {
     "data": {
      "image/png": "[encoded data removed]",
      "text/plain": [
       "<Figure size 432x288 with 1 Axes>"
      ]
     },
     "metadata": {},
     "output_type": "display_data"
    },
    {
     "name": "stdout",
     "output_type": "stream",
     "text": [
      "automobile\n"
     ]
    }
   ],
   "source": [
    "from matplotlib import pyplot as plt\n",
    "\n",
    "index = int(input(\"Enter index: \"))\n",
    "display_image = X_train[index]\n",
    "display_label = y_train[index][0]\n",
    "\n",
    "# Using matplotlib\n",
    "plt.imshow(display_image)\n",
    "plt.show()\n",
    "\n",
    "# Using Python Imaging Library (PIL)\n",
    "# final_image = Image.fromarray(display_image)\n",
    "# final_image.show()\n",
    "\n",
    "print(labels[display_label])"
   ]
  },
  {
   "cell_type": "markdown",
   "metadata": {},
   "source": [
    "# Building the model"
   ]
  },
  {
   "cell_type": "code",
   "execution_count": 6,
   "metadata": {},
   "outputs": [],
   "source": [
    "from keras.models import Sequential\n",
    "from keras.layers import Dense, Dropout, Flatten\n",
    "from keras.layers.convolutional import Conv2D, MaxPooling2D\n",
    "from keras.optimizers import SGD\n",
    "from keras.constraints import maxnorm\n",
    "\n",
    "model = Sequential()\n",
    "model.add(Conv2D(32, (3, 3), input_shape=(32, 32, 3), activation=\"relu\", padding=\"same\", kernel_constraint=maxnorm(3)))\n",
    "model.add(MaxPooling2D(pool_size=(2, 2)))\n",
    "model.add(Flatten())\n",
    "model.add(Dense(512, activation=\"relu\", kernel_constraint=maxnorm(3)))\n",
    "model.add(Dropout(0.5))\n",
    "model.add(Dense(10, activation=\"softmax\"))\n",
    "\n",
    "model.compile(loss=\"categorical_crossentropy\", optimizer=SGD(lr=0.01), metrics=[\"accuracy\"])"
   ]
  },
  {
   "cell_type": "markdown",
   "metadata": {},
   "source": [
    "# Training the model and saving it"
   ]
  },
  {
   "cell_type": "code",
   "execution_count": 7,
   "metadata": {},
   "outputs": [
    {
     "name": "stdout",
     "output_type": "stream",
     "text": [
      "Epoch 1/3\n",
      "50000/50000 [==============================] - 107s 2ms/step - loss: 1.9291 - acc: 0.3071\n",
      "Epoch 2/3\n",
      "50000/50000 [==============================] - 105s 2ms/step - loss: 1.6605 - acc: 0.4118\n",
      "Epoch 3/3\n",
      "50000/50000 [==============================] - 100s 2ms/step - loss: 1.4961 - acc: 0.4667\n"
     ]
    }
   ],
   "source": [
    "import h5py\n",
    "from keras.utils import np_utils\n",
    "\n",
    "new_X_train = X_train.astype(\"float32\")\n",
    "new_X_test = X_test.astype(\"float32\")\n",
    "new_X_train /= 255\n",
    "new_X_test /= 255\n",
    "new_Y_train = np_utils.to_categorical(y_train)\n",
    "new_Y_test = np_utils.to_categorical(y_test)\n",
    "\n",
    "model.fit(new_X_train, new_Y_train, epochs=3, batch_size=32)\n",
    "model.save(\"trained_model.h5\")"
   ]
  },
  {
   "cell_type": "markdown",
   "metadata": {},
   "source": [
    "# Testing the model"
   ]
  },
  {
   "cell_type": "code",
   "execution_count": 10,
   "metadata": {},
   "outputs": [
    {
     "name": "stdout",
     "output_type": "stream",
     "text": [
      "automobile\n"
     ]
    }
   ],
   "source": [
    "import numpy as np\n",
    "from keras.models import load_model\n",
    "\n",
    "model = load_model(\"trained_model.h5\")\n",
    "\n",
    "#input_path = input(\"Enter image file pathname: \")\n",
    "input_path = r\".\\images\\car1.png\"\n",
    "input_image = Image.open(input_path)\n",
    "input_image = input_image.resize((32, 32), resample=Image.LANCZOS)\n",
    "image_array = np.array(input_image)\n",
    "image_array =image_array.astype(\"float32\")\n",
    "image_array /= 255.0\n",
    "image_array = image_array.reshape(1, 32, 32, 3)\n",
    "\n",
    "answer = model.predict(image_array)\n",
    "input_image.show()\n",
    "print(labels[np.argmax(answer)])"
   ]
  }
 ],
 "metadata": {
  "kernelspec": {
   "display_name": "Python 3",
   "language": "python",
   "name": "python3"
  },
  "language_info": {
   "codemirror_mode": {
    "name": "ipython",
    "version": 3
   },
   "file_extension": ".py",
   "mimetype": "text/x-python",
   "name": "python",
   "nbconvert_exporter": "python",
   "pygments_lexer": "ipython3",
   "version": "3.6.6"
  }
 },
 "nbformat": 4,
 "nbformat_minor": 2
}
